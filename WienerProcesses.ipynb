{
  "nbformat": 4,
  "nbformat_minor": 0,
  "metadata": {
    "colab": {
      "name": "WienerProcesses.ipynb",
      "provenance": [],
      "collapsed_sections": [],
      "authorship_tag": "ABX9TyM7SpyiV2toYG0+gHzLegdH",
      "include_colab_link": true
    },
    "kernelspec": {
      "name": "python3",
      "display_name": "Python 3"
    },
    "language_info": {
      "name": "python"
    }
  },
  "cells": [
    {
      "cell_type": "markdown",
      "metadata": {
        "id": "view-in-github",
        "colab_type": "text"
      },
      "source": [
        "<a href=\"https://colab.research.google.com/github/sakura-felicia/CBECI/blob/master/WienerProcesses.ipynb\" target=\"_parent\"><img src=\"https://colab.research.google.com/assets/colab-badge.svg\" alt=\"Open In Colab\"/></a>"
      ]
    },
    {
      "cell_type": "code",
      "execution_count": null,
      "metadata": {
        "id": "mRufVSwB2vr2"
      },
      "outputs": [],
      "source": [
        "import numpy.random as npr\n",
        "import numpy as np\n",
        "import matplotlib.pyplot as plt"
      ]
    },
    {
      "cell_type": "code",
      "source": [
        "import numpy as np\n",
        "\n",
        "print(np.random.normal(0.652))"
      ],
      "metadata": {
        "colab": {
          "base_uri": "https://localhost:8080/"
        },
        "id": "IeXrIg0AvHZT",
        "outputId": "3b1afa95-2279-4782-93b5-5f782fbfbe82"
      },
      "execution_count": null,
      "outputs": [
        {
          "output_type": "stream",
          "name": "stdout",
          "text": [
            "0.9808184067908599\n"
          ]
        }
      ]
    },
    {
      "cell_type": "code",
      "source": [
        "from scipy import stats\n",
        "print(stats.norm.cdf(0.652))"
      ],
      "metadata": {
        "colab": {
          "base_uri": "https://localhost:8080/"
        },
        "id": "9Q-2RNZYvW-T",
        "outputId": "1f9b188b-901c-4201-d824-ef74c347e563"
      },
      "execution_count": null,
      "outputs": [
        {
          "output_type": "stream",
          "name": "stdout",
          "text": [
            "0.7427994138010756\n"
          ]
        }
      ]
    },
    {
      "cell_type": "code",
      "source": [
        ""
      ],
      "metadata": {
        "id": "_40EThDfvXJF"
      },
      "execution_count": null,
      "outputs": []
    },
    {
      "cell_type": "code",
      "source": [
        "def wiener_process(dt=0.1, x0 =0, n=1000):\n",
        "  #Return a new array of given shape and type, filled with zeros.\n",
        "  W = np.zeros(n+1) # stores the values of the wiener process\n",
        "\n",
        "\n",
        "  #we create N+1 timesteps: t=0, 1, 2, 3 ... N\n",
        "\n",
        "  t = np.linspace(x0, n, n+1)\n",
        "\n",
        "  #we have to use cumulative sum: on every step the additional value is\n",
        "  # drawn from a normal distribution with mean 0 and variance dt with n \n",
        "  #number of steps to be drawn\n",
        "  W[1: n+1] = np.cumsum(np.random.normal(0, np.sqrt(dt), n))\n",
        "\n",
        "  return t, W\n",
        "\n",
        " \n"
      ],
      "metadata": {
        "id": "DmSVtMqQ2594"
      },
      "execution_count": null,
      "outputs": []
    },
    {
      "cell_type": "code",
      "source": [
        "def plot_process(t, W):\n",
        "  plt.plot(t, W)\n",
        "  plt.xlabel(\"Time(t)\")\n",
        "  plt.ylabel(\"Wiener-process W(T)\")\n",
        "  plt.title(\"Wiener- process\")\n",
        "  plt.show()\n",
        "\n",
        "if __name__ == '__main__':\n",
        "  time,data = wiener_process()\n",
        "  plot_process(time, data)"
      ],
      "metadata": {
        "colab": {
          "base_uri": "https://localhost:8080/",
          "height": 295
        },
        "id": "jMlw-P2F4pZ_",
        "outputId": "c649f5b5-3db1-4b25-f9a4-4aaa513aec1c"
      },
      "execution_count": null,
      "outputs": [
        {
          "output_type": "display_data",
          "data": {
            "text/plain": [
              "<Figure size 432x288 with 1 Axes>"
            ],
            "image/png": "[encoded data removed]"
          },
          "metadata": {
            "needs_background": "light"
          }
        }
      ]
    },
    {
      "cell_type": "code",
      "source": [
        "def simulate_geometric_random_walk(S0, T=2, N=1000, mu=0.1, sigma=0.05):\n",
        "  dt = T/N\n",
        "  t = np.linspace(0, T, N)\n",
        "  W = np.random.standard_normal(size=N)\n",
        "  W = np.cumsum(W) *np.sqrt(dt)\n",
        "  X = (mu-0.5 * sigma **2) *t + sigma *W\n",
        "  S = S0 * np.exp(X)\n",
        "  return t, S"
      ],
      "metadata": {
        "id": "sg30qoNA5GEW"
      },
      "execution_count": null,
      "outputs": []
    },
    {
      "cell_type": "code",
      "source": [
        "def plot_simulation(t, S):\n",
        "  plt.plot(t, S)\n",
        "  plt.xlabel(\"Time(t)\")\n",
        "  plt.ylabel(\"Stock Price S(T)\")\n",
        "  plt.title(\"Geometric Brownian Motion\")\n",
        "  plt.show()"
      ],
      "metadata": {
        "id": "3SH-JdCZ7dXH"
      },
      "execution_count": null,
      "outputs": []
    },
    {
      "cell_type": "code",
      "source": [
        "if __name__ == \"__main__\":\n",
        "  #at the beginning, the stock price is 10 dollars\n",
        "  time, data = simulate_geometric_random_walk(10)\n",
        "  plot_simulation(time, data)"
      ],
      "metadata": {
        "colab": {
          "base_uri": "https://localhost:8080/",
          "height": 295
        },
        "id": "iEBgI2YD7G4-",
        "outputId": "d81b94a8-d665-44ec-8009-d93760f4fce7"
      },
      "execution_count": null,
      "outputs": [
        {
          "output_type": "display_data",
          "data": {
            "text/plain": [
              "<Figure size 432x288 with 1 Axes>"
            ],
            "image/png": "[encoded data removed]"
          },
          "metadata": {
            "needs_background": "light"
          }
        }
      ]
    },
    {
      "cell_type": "code",
      "source": [
        "import math\n",
        "from scipy import stats\n"
      ],
      "metadata": {
        "id": "gD8ZqkRHy5Co"
      },
      "execution_count": null,
      "outputs": []
    },
    {
      "cell_type": "code",
      "source": [
        ""
      ],
      "metadata": {
        "id": "MAQYlz_60u4P"
      },
      "execution_count": null,
      "outputs": []
    },
    {
      "cell_type": "code",
      "source": [
        "def black_scholes (K, S, r, sigma, T):\n",
        "  d1 = ((math.log(S/K)) + (r+1/2 * sigma**2)*T)/(sigma*np.sqrt(T))\n",
        "  d2 = d1 - sigma * np.sqrt(T)\n",
        "  X = -r*(T)\n",
        "  Call_option = S * stats.norm.cdf(d1) - K *np.exp(X)*stats.norm.cdf(d2)\n",
        "  Put_option = -S*stats.norm.cdf(-d1) + K * np.exp(X)*stats.norm.cdf(-d2)\n",
        "  return Call_option, Put_option\n",
        "  "
      ],
      "metadata": {
        "id": "jjJSbaXR56sw"
      },
      "execution_count": null,
      "outputs": []
    },
    {
      "cell_type": "code",
      "source": [
        "def delta_hedging(K, S, r, sigma, T, number): #number refers to the nr of calls\n",
        "   #how many stock shares do we have to short to maintain a delta neutral position\n",
        "   d1 = ((math.log(S/K)) + (r+1/2 * sigma**2)*T)/(sigma*np.sqrt(T))\n",
        "   delta = stats.norm.cdf(d1)\n",
        "   nr_shares = delta * number\n",
        "   return round(nr_shares)\n",
        "\n"
      ],
      "metadata": {
        "id": "23Z5OPQ10WtC"
      },
      "execution_count": null,
      "outputs": []
    },
    {
      "cell_type": "code",
      "source": [
        "delta_hedging(105, 110, 0.04, 0.15, 1, 50)"
      ],
      "metadata": {
        "colab": {
          "base_uri": "https://localhost:8080/"
        },
        "id": "-28Qe7I-1E1V",
        "outputId": "cde11db5-22e9-4af8-d07d-3428993c0f87"
      },
      "execution_count": null,
      "outputs": [
        {
          "output_type": "execute_result",
          "data": {
            "text/plain": [
              "37"
            ]
          },
          "metadata": {},
          "execution_count": 23
        }
      ]
    },
    {
      "cell_type": "code",
      "source": [
        "def PandL(K, S, r, sigma, T, number, S1, t):\n",
        "  call_price_before = black_scholes (K, S, r, sigma, T)[0]\n",
        "  call_price_now = black_scholes (K, S1, r, sigma, T-t/12)[0]\n",
        "  nr_shares = delta_hedging(K, S, r, sigma, T, number)\n",
        "  PandL = number*(call_price_now-call_price_before) - (S1-S)*nr_shares\n",
        "\n",
        "  return PandL, call_price_before, call_price_now, nr_shares\n"
      ],
      "metadata": {
        "id": "-GWoF2pd1QgH"
      },
      "execution_count": null,
      "outputs": []
    },
    {
      "cell_type": "code",
      "source": [
        "print(PandL(105, 110, 0.04, 0.15, 1, 50, 100, 3))"
      ],
      "metadata": {
        "colab": {
          "base_uri": "https://localhost:8080/"
        },
        "id": "dIfF0Yl_3H-I",
        "outputId": "88d81cdc-8182-4883-c499-2df4954e4664"
      },
      "execution_count": null,
      "outputs": [
        {
          "output_type": "stream",
          "name": "stdout",
          "text": [
            "(-7.309616468419051, 11.880204253214117, 4.334011923845736, 37)\n"
          ]
        }
      ]
    },
    {
      "cell_type": "code",
      "source": [
        "black_scholes(100, 100, 0.05, 0.2, 1)\n",
        "#r = risk free rate"
      ],
      "metadata": {
        "colab": {
          "base_uri": "https://localhost:8080/"
        },
        "id": "Z4YUtXv1ylQV",
        "outputId": "1dca8e03-6c1e-415a-988b-60e54fe2fd31"
      },
      "execution_count": null,
      "outputs": [
        {
          "output_type": "execute_result",
          "data": {
            "text/plain": [
              "(10.450583572185565, 5.573526022256971)"
            ]
          },
          "metadata": {},
          "execution_count": 13
        }
      ]
    },
    {
      "cell_type": "code",
      "source": [
        "#Monte Carlo simulations\n",
        "\n",
        "class OptionPricing:\n",
        "  def __init__ (self, S0, K, T, r, sigma, iterations):\n",
        "    self.S0 = S0\n",
        "    self.K = K\n",
        "    self.T = T\n",
        "    self.r = r\n",
        "    self.sigma = sigma\n",
        "    self.iterations = iterations"
      ],
      "metadata": {
        "id": "FjXnKFxTvg8b"
      },
      "execution_count": null,
      "outputs": []
    },
    {
      "cell_type": "code",
      "source": [
        "class OptionPricing:\n",
        "    \n",
        "\tdef __init__(self,S0,E,T,rf,sigma,iterations):\n",
        "\t\tself.S0 = S0\n",
        "\t\tself.E = E\n",
        "\t\tself.T = T\n",
        "\t\tself.rf = rf\n",
        "\t\tself.sigma = sigma     \n",
        "\t\tself.iterations = iterations \n",
        "    \n",
        "\tdef call_option_simulation(self):\n",
        "\t\t\n",
        "\t\t#we have 2 columns: first with 0s the second column will store the payoff\n",
        "\t\t#we need the first column of 0s: payoff function is max(0,S-E) for call option\n",
        "\t\toption_data = np.zeros([self.iterations, 2])\n",
        "\t\t\n",
        "\t\t#dimensions: 1 dimensional array with as many items as the itrations\n",
        "\t\trand = np.random.normal(0, 1, [1, self.iterations])\n",
        "\t\t\n",
        "\t\t#equation for the S(t) stock price\n",
        "\t\tstock_price = self.S0*np.exp(self.T*(self.rf - 0.5*self.sigma**2)+self.sigma*np.sqrt(self.T)*rand)\n",
        " \n",
        "\t\t#we need S-E because we have to calculate the max(S-E,0)\n",
        "\t\toption_data[:,1] = stock_price - self.E   \n",
        "        \n",
        "\t\t#average for the Monte-Carlo method\n",
        "\t\t#np.amax() returns the max(0,S-E) according to the formula\n",
        "\t\taverage = np.sum(np.amax(option_data, axis=1))/float(self.iterations)\n",
        " \n",
        "\t\t#have to use the exp(-rT) discount factor\n",
        "\t\treturn np.exp(-1.0*self.rf*self.T)*average\n",
        "\t\t\n",
        "\tdef put_option_simulation(self):\n",
        "\t\n",
        "\t\t#we have 2 columns: first with 0s the second column will store the payoff\n",
        "\t\t#we need the first column of 0s: payoff function is max(0,E-S) for put option\n",
        "\t\toption_data = np.zeros([self.iterations, 2])\n",
        "\t\t\n",
        "\t\t#dimensions: 1 dimensional array with as many items as the itrations\n",
        "\t\trand = np.random.normal(0, 1, [1, self.iterations])\n",
        "\t\t\n",
        "\t\t#equation for the S(t) stock price\n",
        "\t\tstock_price = self.S0*np.exp(self.T*(self.rf - 0.5*self.sigma**2)+self.sigma*np.sqrt(self.T)*rand)\n",
        " \n",
        "\t\t#we need E-S because we have to calculate the max(E-S,0)\n",
        "\t\toption_data[:,1] = self.E - stock_price  \n",
        "        \n",
        "\t\t#average for the Monte-Carlo method\n",
        "\t\t#np.amax() returns the max(0,E-S) according to the formula\n",
        "\t\taverage = np.sum(np.amax(option_data, axis=1))/float(self.iterations)\n",
        " \n",
        "\t\t#have to use the exp(-rT) discount factor\n",
        "\t\treturn np.exp(-1.0*self.rf*self.T)*average"
      ],
      "metadata": {
        "id": "cIIvS04oSgUK"
      },
      "execution_count": null,
      "outputs": []
    },
    {
      "cell_type": "code",
      "source": [
        "if __name__ == \"__main__\":\n",
        "\t\n",
        "\tS0=110\t\t\t\t\t#underlying stock price at t=0\n",
        "\tE=105\t\t\t\t#strike price\n",
        "\tT = 1\t\t\t\t\t#expiry\n",
        "\trf = 0.04\t\t\t\t#risk-free rate\n",
        "\tsigma=0.15\t\t\t\t#volatility of the underlying stock\n",
        "\titerations = 1000000\t#number of iterations in the Monte-Carlo simulation\t\n",
        "\t\n",
        "\tmodel = OptionPricing(S0,E,T,rf,sigma,iterations)\n",
        "\tprint(\"Call option price with Monte-Carlo approach: \", model.call_option_simulation()) \n",
        "\tprint(\"Put option price with Monte-Carlo approach: \", model.put_option_simulation())"
      ],
      "metadata": {
        "id": "zI6pBK2BSp2a",
        "outputId": "7ef54283-0b1a-473c-ce71-6b179110b0cc",
        "colab": {
          "base_uri": "https://localhost:8080/"
        }
      },
      "execution_count": null,
      "outputs": [
        {
          "output_type": "stream",
          "name": "stdout",
          "text": [
            "Call option price with Monte-Carlo approach:  11.873439730606902\n",
            "Put option price with Monte-Carlo approach:  2.7646433708665112\n"
          ]
        }
      ]
    },
    {
      "cell_type": "code",
      "source": [
        "import matplotlib.pyplot as plt"
      ],
      "metadata": {
        "id": "pr9tzfbH9Y9e"
      },
      "execution_count": null,
      "outputs": []
    },
    {
      "cell_type": "markdown",
      "source": [
        "Monte Carlo simulations"
      ],
      "metadata": {
        "id": "8QVFIHFo9akj"
      }
    },
    {
      "cell_type": "code",
      "source": [
        "import pandas as pd\n",
        "\n",
        "class Monte_Carlo:\n",
        "\n",
        "  NUM_OF_SIMULATIONS = 100\n",
        "\n",
        "  def stock_monte_carlo(S0, mu, r, sigma, N=1000):\n",
        "    result = []\n",
        "\n",
        "    for _ in range(NUM_OF_SIMULATIONS):\n",
        "      prices = [S0]\n",
        "\n",
        "      for _ in range(N):\n",
        "        \n",
        "        stock_price = prices[-1] *np.exp((r-1*sigma**2/2) + sigma*np.random.normal())\n",
        "        prices.append(stock_price)\n",
        "    \n",
        "\n",
        "      result.append(prices)\n",
        "\n",
        "    simulation_data = pd.DataFrame(result)\n",
        "    simulation_data = simulation_data\n",
        "\n",
        "    print(simulation_data)\n",
        "\n",
        "\n",
        "    \n",
        "\n"
      ],
      "metadata": {
        "id": "9hIChke19cn6"
      },
      "execution_count": null,
      "outputs": []
    },
    {
      "cell_type": "code",
      "source": [
        "if __name__ == \"__main___\":\n",
        "  model=Monte_Carlo(50, 0.0002, 0.01)\n",
        "  print(model.stock_monte_carlo)"
      ],
      "metadata": {
        "id": "ixyQKakA_HoQ"
      },
      "execution_count": null,
      "outputs": []
    },
    {
      "cell_type": "code",
      "source": [
        "NUM_OF_SIMULATIONS = 1000\n",
        "\n",
        "def stock_monte_carlo(S0, mu, r, sigma, N=252):\n",
        "  result = []\n",
        "\n",
        "  for _ in range(NUM_OF_SIMULATIONS):\n",
        "     prices = [S0]\n",
        "\n",
        "     for _ in range(N):\n",
        "       # T = 1\n",
        "        stock_price = prices[-1] *np.exp((mu-r*(sigma**2/2)) + sigma*np.random.normal())\n",
        "        prices.append(stock_price)\n",
        "     result.append(prices)\n",
        "#every single row will represent a given realization of the stochastic process. \n",
        "  simulation_data = pd.DataFrame(result)\n",
        "  # transposing this dataframe. The columns will contain that given time series one by one.\n",
        "  simulation_data = simulation_data.T\n",
        "\n",
        "  simulation_data['mean'] = simulation_data.mean(axis=1)\n",
        "  \n",
        "\n",
        "  \n",
        "  plt.plot(simulation_data['mean'])\n",
        "  plt.show()\n",
        "  print(\"diciton for future stock priceL $%.2f\" % simulation_data[\"mean\"].tail(1))"
      ],
      "metadata": {
        "id": "CAtTJeJ0ALYF"
      },
      "execution_count": null,
      "outputs": []
    },
    {
      "cell_type": "code",
      "source": [
        "stock_monte_carlo(50, 0.0002, 0.5, 0.01)"
      ],
      "metadata": {
        "colab": {
          "base_uri": "https://localhost:8080/",
          "height": 283
        },
        "id": "XdvRBjzyAVdO",
        "outputId": "55cb9e62-5629-4de4-e385-48efef8f6748"
      },
      "execution_count": null,
      "outputs": [
        {
          "output_type": "display_data",
          "data": {
            "text/plain": [
              "<Figure size 432x288 with 1 Axes>"
            ],
            "image/png": "[encoded data removed]"
          },
          "metadata": {
            "needs_background": "light"
          }
        },
        {
          "output_type": "stream",
          "name": "stdout",
          "text": [
            "diciton for future stock priceL $52.71\n"
          ]
        }
      ]
    }
  ]
}