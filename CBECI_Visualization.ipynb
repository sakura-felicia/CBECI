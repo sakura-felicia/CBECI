{
  "nbformat": 4,
  "nbformat_minor": 0,
  "metadata": {
    "colab": {
      "name": "CBECI Visualization.ipynb",
      "provenance": [],
      "private_outputs": true,
      "authorship_tag": "ABX9TyOJ51djp7ZqvAgi0HkILhpV",
      "include_colab_link": true
    },
    "kernelspec": {
      "name": "python3",
      "display_name": "Python 3"
    }
  },
  "cells": [
    {
      "cell_type": "markdown",
      "metadata": {
        "id": "view-in-github",
        "colab_type": "text"
      },
      "source": [
        "<a href=\"https://colab.research.google.com/github/sunshineluyao/CBECI/blob/master/CBECI_Visualization.ipynb\" target=\"_parent\"><img src=\"https://colab.research.google.com/assets/colab-badge.svg\" alt=\"Open In Colab\"/></a>"
      ]
    },
    {
      "cell_type": "markdown",
      "metadata": {
        "id": "Ypl9fl2LAoWf",
        "colab_type": "text"
      },
      "source": [
        "**Step 1: Import Data and Data Wrangling**"
      ]
    },
    {
      "cell_type": "code",
      "metadata": {
        "id": "KF_Bzw5AAeDx",
        "colab_type": "code",
        "colab": {}
      },
      "source": [
        "\n",
        "### import packages\n",
        "import pandas as pd\n",
        "import numpy as np"
      ],
      "execution_count": null,
      "outputs": []
    },
    {
      "cell_type": "code",
      "metadata": {
        "id": "cvHcnFteBFzv",
        "colab_type": "code",
        "colab": {}
      },
      "source": [
        "### imort data from Github Repo\n",
        "### ! be sure to provide the raw link\n",
        "df_HR = pd.read_csv('https://raw.githubusercontent.com/sunshineluyao/CBECI/master/Hashrate.csv')\n",
        "df_HR.head()"
      ],
      "execution_count": null,
      "outputs": []
    },
    {
      "cell_type": "code",
      "metadata": {
        "id": "PjjZO399BsBD",
        "colab_type": "code",
        "colab": {}
      },
      "source": [
        "df_ISO = pd.read_csv('https://raw.githubusercontent.com/sunshineluyao/CBECI/master/Country_ISO.csv')\n",
        "df_ISO.head()"
      ],
      "execution_count": null,
      "outputs": []
    },
    {
      "cell_type": "code",
      "metadata": {
        "id": "E9SuQjpjB05N",
        "colab_type": "code",
        "colab": {}
      },
      "source": [
        "df_HR_ISO = df_HR.merge(df_ISO, how = 'left', left_on='Country', right_on='Country')\n",
        "df_HR_ISO"
      ],
      "execution_count": null,
      "outputs": []
    },
    {
      "cell_type": "code",
      "metadata": {
        "id": "OJ8fZ01eF_7R",
        "colab_type": "code",
        "colab": {}
      },
      "source": [
        "df_BEC = pd.read_csv('https://raw.githubusercontent.com/sunshineluyao/CBECI/master/BEC.csv')\n",
        "df_BEC.head()"
      ],
      "execution_count": null,
      "outputs": []
    },
    {
      "cell_type": "code",
      "metadata": {
        "id": "fisicUPxGLgR",
        "colab_type": "code",
        "colab": {}
      },
      "source": [
        "df_BEC.info()"
      ],
      "execution_count": null,
      "outputs": []
    },
    {
      "cell_type": "code",
      "metadata": {
        "id": "0kZiO45TJ8v8",
        "colab_type": "code",
        "colab": {}
      },
      "source": [
        "df_BEC_Max=df_BEC[['Date and Time','MAX']]\n",
        "df_BEC_Min=df_BEC[['Date and Time','MIN']]\n",
        "df_BEC_Guess=df_BEC[['Date and Time','GUESS']]"
      ],
      "execution_count": null,
      "outputs": []
    },
    {
      "cell_type": "code",
      "metadata": {
        "id": "48sbILrzK59C",
        "colab_type": "code",
        "colab": {}
      },
      "source": [
        "df_BEC_Max['Type']= 'Max'\n",
        "df_BEC_Min['Type']= 'Min'\n",
        "df_BEC_Guess['Type']= 'Guess'"
      ],
      "execution_count": null,
      "outputs": []
    },
    {
      "cell_type": "code",
      "metadata": {
        "id": "GJuA6nraKH_n",
        "colab_type": "code",
        "colab": {}
      },
      "source": [
        "df_BEC_Max.columns=['Time', 'BEC', 'Type']\n",
        "df_BEC_Min.columns=['Time', 'BEC', 'Type']\n",
        "df_BEC_Guess.columns=['Time', 'BEC', 'Type']"
      ],
      "execution_count": null,
      "outputs": []
    },
    {
      "cell_type": "code",
      "metadata": {
        "id": "xocPXZOCIUTi",
        "colab_type": "code",
        "colab": {}
      },
      "source": [
        "df_BEC_Long = df_BEC_Max.append([df_BEC_Min, df_BEC_Guess], ignore_index=True)\n",
        "df_BEC_Long.head()"
      ],
      "execution_count": null,
      "outputs": []
    },
    {
      "cell_type": "markdown",
      "metadata": {
        "id": "kAcHiCV9CfEx",
        "colab_type": "text"
      },
      "source": [
        "\n",
        "**Step 2**: Interactive Visualization"
      ]
    },
    {
      "cell_type": "code",
      "metadata": {
        "id": "kDDigd60CRfj",
        "colab_type": "code",
        "colab": {}
      },
      "source": [
        "### import plotly\n",
        "import plotly.express as px\n",
        "import plotly.graph_objects as go"
      ],
      "execution_count": null,
      "outputs": []
    },
    {
      "cell_type": "code",
      "metadata": {
        "id": "EYEKcb6NCnir",
        "colab_type": "code",
        "colab": {}
      },
      "source": [
        "### View Plotly Themes: https://plotly.com/python/templates/\n",
        "import plotly.io as pio\n",
        "pio.templates"
      ],
      "execution_count": null,
      "outputs": []
    },
    {
      "cell_type": "code",
      "metadata": {
        "id": "LP6u6xjQDEhm",
        "colab_type": "code",
        "colab": {}
      },
      "source": [
        "df_HR_ISO.info()"
      ],
      "execution_count": null,
      "outputs": []
    },
    {
      "cell_type": "code",
      "metadata": {
        "id": "1OQpq9GTCssP",
        "colab_type": "code",
        "colab": {}
      },
      "source": [
        "fig_HR = px.choropleth(df_HR_ISO, color=\"Monthly share of total hashrate (%)\",\n",
        "                    locations=\"ISO\",\n",
        "                    color_continuous_scale=px.colors.diverging.Picnic,\n",
        "                    animation_frame=\"Date\", \n",
        "                    animation_group='Country',\n",
        "                    template = 'plotly_white'\n",
        "                   )\n",
        "fig_HR.update_layout(title_text = 'Monthly share of total hashrate',    \n",
        "                   )\n",
        "fig_HR.show()"
      ],
      "execution_count": null,
      "outputs": []
    },
    {
      "cell_type": "code",
      "metadata": {
        "id": "PtfsIJxRC8TP",
        "colab_type": "code",
        "colab": {}
      },
      "source": [
        "###Line Plot \n",
        "fig_BEC = px.line(df_BEC_Long, x=\"Time\", y=\"BEC\", color=\"Type\", line_group=\"Type\", hover_name=\"Type\",\n",
        "         log_y=True, template='plotly_white')\n",
        "fig_BEC.update_layout(\n",
        "                  title=\"Bitcoin Electric Consumption, TWh (annualized)\", \n",
        "                  )\n",
        "fig_BEC.update_xaxes(\n",
        "    rangeslider_visible=True,\n",
        "    rangeselector=dict(\n",
        "        buttons=list([\n",
        "            dict(step=\"all\"),\n",
        "            dict(count=1, label=\"1m\", step=\"month\", stepmode=\"backward\"),\n",
        "            dict(count=3, label=\"3m\", step=\"month\", stepmode=\"backward\"),\n",
        "            dict(count=1, label=\"1y\", step=\"year\", stepmode=\"backward\"),\n",
        "            dict(count=1, label=\"YTD\", step=\"year\", stepmode=\"todate\"),\n",
        "          \n",
        "        ])\n",
        "    )\n",
        ")\n",
        "fig_BEC.show()"
      ],
      "execution_count": null,
      "outputs": []
    },
    {
      "cell_type": "markdown",
      "metadata": {
        "id": "TEkvVHB1MP6z",
        "colab_type": "text"
      },
      "source": [
        "\n",
        "**Step 4** Setting Credentials and Execute Pyplot\n",
        "\n",
        "log into your Plotly chart studio and replace username and api_key with your own chart studio information. https://chart-studio.plotly.com/settings/api (Note: log into plotly chart studio; Go to settings; Go to API)"
      ]
    },
    {
      "cell_type": "code",
      "metadata": {
        "id": "vR-xHamRMx01",
        "colab_type": "code",
        "colab": {}
      },
      "source": [
        "### Install Chart Studio\n",
        "\n",
        "!pip install chart_studio"
      ],
      "execution_count": null,
      "outputs": []
    },
    {
      "cell_type": "code",
      "metadata": {
        "id": "83zQCRkdMqcf",
        "colab_type": "code",
        "colab": {}
      },
      "source": [
        "import chart_studio\n",
        "username = 'replace here'\n",
        "api_key = 'replace here'\n",
        "\n",
        "import chart_studio.plotly as py\n",
        "import chart_studio.tools as tls"
      ],
      "execution_count": null,
      "outputs": []
    },
    {
      "cell_type": "code",
      "metadata": {
        "id": "6DfrZhMrLzHe",
        "colab_type": "code",
        "colab": {}
      },
      "source": [
        "chart_studio.tools.set_credentials_file(username='replace here', api_key='replace here')"
      ],
      "execution_count": null,
      "outputs": []
    },
    {
      "cell_type": "code",
      "metadata": {
        "id": "B81o0t3bMkMU",
        "colab_type": "code",
        "colab": {}
      },
      "source": [
        "py.plot(fig_HR,filename = 'Hashrate Share',auto_open=False)\n"
      ],
      "execution_count": null,
      "outputs": []
    },
    {
      "cell_type": "code",
      "metadata": {
        "id": "SEly8pb3NDf6",
        "colab_type": "code",
        "colab": {}
      },
      "source": [
        "py.plot(fig_BEC,filename = 'Bitcoin Electric Consumption',auto_open=False)"
      ],
      "execution_count": null,
      "outputs": []
    },
    {
      "cell_type": "code",
      "metadata": {
        "id": "CD0k6IQ8NOB-",
        "colab_type": "code",
        "colab": {}
      },
      "source": [
        ""
      ],
      "execution_count": null,
      "outputs": []
    }
  ]
}